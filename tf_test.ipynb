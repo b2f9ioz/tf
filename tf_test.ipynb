{
  "nbformat": 4,
  "nbformat_minor": 0,
  "metadata": {
    "colab": {
      "name": "tf_test.ipynb",
      "provenance": [],
      "collapsed_sections": [],
      "toc_visible": true,
      "mount_file_id": "1lG03Hx2t__cSR07vNPoCFVYKqcg-SjV4",
      "authorship_tag": "ABX9TyP0Se8nNk1jf6REQv0fOtaG",
      "include_colab_link": true
    },
    "kernelspec": {
      "name": "python3",
      "display_name": "Python 3"
    }
  },
  "cells": [
    {
      "cell_type": "markdown",
      "metadata": {
        "id": "view-in-github",
        "colab_type": "text"
      },
      "source": [
        "<a href=\"https://colab.research.google.com/github/b2f9ioz/tf/blob/master/tf_test.ipynb\" target=\"_parent\"><img src=\"https://colab.research.google.com/assets/colab-badge.svg\" alt=\"Open In Colab\"/></a>"
      ]
    },
    {
      "cell_type": "code",
      "metadata": {
        "id": "pnVIS6gz6KWE",
        "colab_type": "code",
        "colab": {}
      },
      "source": [
        "# the first file"
      ],
      "execution_count": 2,
      "outputs": []
    },
    {
      "cell_type": "code",
      "metadata": {
        "id": "Jgxm0FJT8YlR",
        "colab_type": "code",
        "colab": {}
      },
      "source": [
        "print('hello colab')"
      ],
      "execution_count": null,
      "outputs": []
    },
    {
      "cell_type": "code",
      "metadata": {
        "id": "HAng9ZY68cX-",
        "colab_type": "code",
        "colab": {}
      },
      "source": [
        "print('I changed this source file')"
      ],
      "execution_count": null,
      "outputs": []
    }
  ]
}